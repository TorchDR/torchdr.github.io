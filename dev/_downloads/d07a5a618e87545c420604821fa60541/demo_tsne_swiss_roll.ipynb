{
  "cells": [
    {
      "cell_type": "markdown",
      "metadata": {},
      "source": [
        "\n# TSNE embedding of the swiss roll dataset\n\nWe show how to compute a TSNE embedding with TorchDR on the swiss roll dataset.\n"
      ]
    },
    {
      "cell_type": "code",
      "execution_count": null,
      "metadata": {
        "collapsed": false
      },
      "outputs": [],
      "source": [
        "# Author: R\u00e9mi Flamary <remi.flamary@polytechnique.edu>\n#         Hugues Van Assel <vanasselhugues@gmail.com>\n#\n# License: BSD 3-Clause License"
      ]
    },
    {
      "cell_type": "code",
      "execution_count": null,
      "metadata": {
        "collapsed": false
      },
      "outputs": [],
      "source": [
        "import matplotlib.pyplot as plt\nfrom sklearn.datasets import make_swiss_roll\n\nfrom torchdr import TSNE"
      ]
    },
    {
      "cell_type": "markdown",
      "metadata": {},
      "source": [
        "## Load toy images\n\nFirst, let's load swiss roll dataset from sklearn.\n\n"
      ]
    },
    {
      "cell_type": "code",
      "execution_count": null,
      "metadata": {
        "collapsed": false
      },
      "outputs": [],
      "source": [
        "n_samples = 500\n\nX, t = make_swiss_roll(n_samples=n_samples, noise=0.1, random_state=0)"
      ]
    },
    {
      "cell_type": "markdown",
      "metadata": {},
      "source": [
        "## Plot the dataset\n\n\n"
      ]
    },
    {
      "cell_type": "code",
      "execution_count": null,
      "metadata": {
        "collapsed": false
      },
      "outputs": [],
      "source": [
        "fig = plt.figure(figsize=(8, 6))\nax = fig.add_subplot(111, projection=\"3d\")\nfig.add_axes(ax)\nax.scatter(X[:, 0], X[:, 1], X[:, 2], c=t, s=50, alpha=0.8)\nax.set_title(\"Swiss Roll in Ambient Space\")\nax.view_init(azim=-66, elev=12)\n_ = ax.text2D(0.8, 0.05, s=\"n_samples={}\".format(n_samples), transform=ax.transAxes)"
      ]
    },
    {
      "cell_type": "markdown",
      "metadata": {},
      "source": [
        "## Compute the TSNE embedding\n\n"
      ]
    },
    {
      "cell_type": "code",
      "execution_count": null,
      "metadata": {
        "collapsed": false
      },
      "outputs": [],
      "source": [
        "tsne = TSNE(n_components=2, perplexity=10, max_iter=200)\n\nX_embedded = tsne.fit_transform(X)"
      ]
    },
    {
      "cell_type": "markdown",
      "metadata": {},
      "source": [
        "## Plot the TSNE embedding\n\n"
      ]
    },
    {
      "cell_type": "code",
      "execution_count": null,
      "metadata": {
        "collapsed": false
      },
      "outputs": [],
      "source": [
        "plt.figure(figsize=(8, 6))\nplt.scatter(X_embedded[:, 0], X_embedded[:, 1], c=t, s=50, alpha=0.8)\nplt.title(\"TSNE embedding of the Swiss Roll dataset\")"
      ]
    },
    {
      "cell_type": "markdown",
      "metadata": {},
      "source": [
        "## See the impact of perplexity\n\n"
      ]
    },
    {
      "cell_type": "code",
      "execution_count": null,
      "metadata": {
        "collapsed": false
      },
      "outputs": [],
      "source": [
        "perplexity_values = [2, 5, 10, 20]\nX_embedded = []\nfor perplexity in perplexity_values:\n\n    if len(X_embedded) == 0:\n        init = \"pca\"\n    else:\n        init = X_embedded[-1]\n    tsne = TSNE(n_components=2, perplexity=perplexity, max_iter=200, init=init)\n    X_embedded.append(tsne.fit_transform(X))\n\nplt.figure(figsize=(12, 4))\n\nfor i, perplexity in enumerate(perplexity_values):\n    plt.subplot(1, 4, i + 1)\n    plt.scatter(X_embedded[i][:, 0], X_embedded[i][:, 1], c=t, s=50, alpha=0.8)\n    plt.title(\"Perplexity = {}\".format(perplexity))"
      ]
    },
    {
      "cell_type": "markdown",
      "metadata": {},
      "source": [
        "We can observe that the perplexity parameter significantly influences the embedding.\nWhen the perplexity is too low, the embedding captures only short-range dependencies\nand fails to capture the manifold's geometry. Conversely, when the perplexity is too\nhigh, points that are distant on the manifold but close in the ambient space are\nmistakenly considered neighbors.\n\n"
      ]
    }
  ],
  "metadata": {
    "kernelspec": {
      "display_name": "Python 3",
      "language": "python",
      "name": "python3"
    },
    "language_info": {
      "codemirror_mode": {
        "name": "ipython",
        "version": 3
      },
      "file_extension": ".py",
      "mimetype": "text/x-python",
      "name": "python",
      "nbconvert_exporter": "python",
      "pygments_lexer": "ipython3",
      "version": "3.10.15"
    }
  },
  "nbformat": 4,
  "nbformat_minor": 0
}