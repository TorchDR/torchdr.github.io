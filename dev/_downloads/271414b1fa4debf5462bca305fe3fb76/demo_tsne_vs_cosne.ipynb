{
  "cells": [
    {
      "cell_type": "markdown",
      "metadata": {},
      "source": [
        "\n# TSNE vs COSNE : Euclidean vs Hyperbolic\n\nWe compare in this example two dimensionalty reduction methods:\nT-SNE and CO-SNE on a synthetic hierarchical toy dataset and on\nsinglecell data. The first method computes an embedding in a 2D\nEuclidean space while the second one operates in the Hyperbolic\nPoincar\u00e9 Ball model.\n"
      ]
    },
    {
      "cell_type": "markdown",
      "metadata": {},
      "source": [
        "## Designing the synthetic hierarchical dataset\n\nWe first construct a synthetic hierarchical dataset with the following class\n\n"
      ]
    },
    {
      "cell_type": "code",
      "execution_count": null,
      "metadata": {
        "collapsed": false
      },
      "outputs": [],
      "source": [
        "import numpy as np\nfrom torchdr.utils.visu import plotGrid\nfrom torchdr import TSNE, COSNE\nfrom torchdr import pairwise_distances\nimport torch\nimport itertools\nimport urllib.request\nimport matplotlib.pylab as plt\nfrom torchdr.utils import geoopt\n\n\nclass SyntheticDataset(torch.utils.data.Dataset):\n    \"\"\"\n    Implementation of a synthetic dataset by hierarchical diffusion.\n\n    Adopted from https://github.com/emilemathieu/pvae/\n\n    Parameters\n    ----------\n    ball : torchdr.utils.geoopt.PoincareBall\n        The Poincar\u00e9 ball used for generating the dataset.\n    dim : int\n        Dimension of the input sample.\n    depth : int\n        Depth of the tree; the root corresponds to the depth 0.\n    num_children : int\n        Number of children of each node in the tree.\n    dist_children : float\n        Distance parameter for children nodes.\n    sigma_sibling : float\n        Noise parameter for sibling nodes.\n    num_siblings : int\n        Number of noisy observations obtained from the nodes of the tree.\n    \"\"\"\n\n    def __init__(\n        self,\n        ball,\n        dim,\n        depth,\n        num_children=2,\n        dist_children=1,\n        sigma_sibling=2,\n        num_siblings=1,\n    ):\n        assert num_children == 2\n        self.dim = int(dim)\n        self.ball = ball\n        self.root = ball.origin(self.dim)\n        self.sigma_sibling = sigma_sibling\n        self.depth = int(depth)\n        self.dist_children = dist_children\n        self.num_children = int(num_children)\n        self.num_siblings = int(num_siblings)\n        self.__class_counter = itertools.count()\n        self.origin_data, self.origin_labels, self.data, self.labels = map(\n            torch.detach, self.bst()\n        )\n        self.num_classes = self.origin_labels.max().item() + 1\n\n    def __len__(self):\n        \"\"\"\n        Return the total number of samples/nodes.\n\n        Returns\n        -------\n        int\n            Number of samples in the dataset.\n        \"\"\"\n        return len(self.data)\n\n    def __getitem__(self, idx):\n        \"\"\"\n        Generate one sample.\n\n        Parameters\n        ----------\n        idx : int\n            Index of the sample to retrieve.\n\n        Returns\n        -------\n        tuple\n            Contains (data, labels, max_label) for the requested index.\n        \"\"\"\n        data, labels = self.data[idx], self.labels[idx]\n        return data, labels, labels.max(-1).values\n\n    def get_children(self, parent_value, parent_label, current_depth, offspring=True):\n        \"\"\"\n        Generate children nodes or noisy observations from a parent node.\n\n        Parameters\n        ----------\n        parent_value : torch.Tensor\n            1D array representing the parent node value.\n        parent_label : torch.Tensor\n            1D array representing the parent node label.\n        current_depth : int\n            Current depth in the tree.\n        offspring : bool, default=True\n            If True, the parent node gives birth to num_children nodes.\n            If False, the parent node gives birth to num_siblings noisy observations.\n\n        Returns\n        -------\n        list\n            List of 2-tuples containing the value and label of each child of the\n            parent node. Length depends on offspring parameter.\n        \"\"\"\n        if offspring:\n            num_children = self.num_children\n            sigma = self.dist_children\n        else:\n            num_children = self.num_siblings\n            sigma = self.sigma_sibling\n        if offspring:\n            direction = torch.randn_like(parent_value)\n            parent_value_n = parent_value / parent_value.norm().clamp_min(1e-15)\n            direction -= parent_value_n @ direction * parent_value_n\n            child_value_1 = self.ball.geodesic_unit(\n                torch.tensor(sigma), parent_value, direction\n            )\n            child_value_2 = self.ball.geodesic_unit(\n                torch.tensor(sigma), parent_value, -direction\n            )\n            child_label_1 = parent_label.clone()\n            child_label_1[current_depth] = next(self.__class_counter)\n            child_label_2 = parent_label.clone()\n            child_label_2[current_depth] = next(self.__class_counter)\n            children = [(child_value_1, child_label_1), (child_value_2, child_label_2)]\n        else:\n            children = []\n            for i in range(num_children):\n                child_value = self.ball.random(\n                    self.dim, mean=parent_value, std=sigma**0.5\n                )\n                child_label = parent_label.clone()\n                children.append((child_value, child_label))\n        return children\n\n    def bst(self):\n        \"\"\"\n        Generate all nodes of a level before proceeding to the next level.\n\n        This method builds the hierarchical tree structure level by level.\n\n        Returns\n        -------\n        tuple\n            Contains (images, labels_visited, values_clones, labels_clones)\n            representing the original data points, their labels, and the\n            noisy observations with their labels.\n        \"\"\"\n        label = -torch.ones(self.depth + 1, dtype=torch.long)\n        label[0] = next(self.__class_counter)\n        queue = [(self.root, label, 0)]\n        visited = []\n        labels_visited = []\n        values_clones = []\n        labels_clones = []\n        while len(queue) > 0:\n            current_node, current_label, current_depth = queue.pop(0)\n            visited.append(current_node)\n            labels_visited.append(current_label)\n            if current_depth < self.depth:\n                children = self.get_children(current_node, current_label, current_depth)\n                for child in children:\n                    queue.append((child[0], child[1], current_depth + 1))\n            if current_depth <= self.depth:\n                clones = self.get_children(\n                    current_node, current_label, current_depth, False\n                )\n                for clone in clones:\n                    values_clones.append(clone[0])\n                    labels_clones.append(clone[1])\n        length = int(\n            ((self.num_children) ** (self.depth + 1) - 1) / (self.num_children - 1)\n        )\n        images = torch.cat([i for i in visited]).reshape(length, self.dim)\n        labels_visited = torch.cat([i for i in labels_visited]).reshape(\n            length, self.depth + 1\n        )[:, : self.depth]\n        values_clones = torch.cat([i for i in values_clones]).reshape(\n            self.num_siblings * length, self.dim\n        )\n        labels_clones = torch.cat([i for i in labels_clones]).reshape(\n            self.num_siblings * length, self.depth + 1\n        )\n        return images, labels_visited, values_clones, labels_clones"
      ]
    },
    {
      "cell_type": "markdown",
      "metadata": {},
      "source": [
        "## Generating the data\n\nLet us now generate some data of interest. The dimension of the input space is\nset to 50\n\n"
      ]
    },
    {
      "cell_type": "code",
      "execution_count": null,
      "metadata": {
        "collapsed": false
      },
      "outputs": [],
      "source": [
        "ball = geoopt.PoincareBall()\n\ndataset = SyntheticDataset(\n    ball, 50, 2, num_siblings=100, sigma_sibling=0.05, dist_children=0.7\n)\ndata_points = dataset.data\ndata_points = data_points - data_points.mean(axis=0)\n\nlabels = dataset.labels\ncolors = dataset.labels.max(-1).values"
      ]
    },
    {
      "cell_type": "markdown",
      "metadata": {},
      "source": [
        "## Visualization of the original similarities\n\nWe can observe the hierarchical nature of the input data by examining the\npairwaise distance matrix in the input space\n\n"
      ]
    },
    {
      "cell_type": "code",
      "execution_count": null,
      "metadata": {
        "collapsed": false
      },
      "outputs": [],
      "source": [
        "dist_matrix, _ = pairwise_distances(data_points, data_points, metric=\"sqeuclidean\")\n\nplt.figure()\nplt.imshow(dist_matrix)\nplt.title(\"Distance matrix in the input space\")\nplt.show()"
      ]
    },
    {
      "cell_type": "markdown",
      "metadata": {},
      "source": [
        "## Computing TSNE and COSNE\n\nWe can now proceed to computing the two DR methods and visualizing\nthe results\n\n"
      ]
    },
    {
      "cell_type": "code",
      "execution_count": null,
      "metadata": {
        "collapsed": false
      },
      "outputs": [],
      "source": [
        "tsne_model = TSNE(verbose=True, max_iter=500)\nout_tsne = tsne_model.fit_transform(data_points)\n\ncosne_model = COSNE(lr=1e-1, verbose=True, gamma=0.5, lambda1=0.01, max_iter=500)\nout_cosne = cosne_model.fit_transform(data_points)\n\n\nfig, axes = plt.subplots(nrows=1, ncols=2, figsize=(8, 4))\naxes[0].scatter(*out_tsne.T, c=colors, cmap=plt.get_cmap(\"rainbow\"))\naxes[0].set_xticks([])\naxes[0].set_yticks([])\naxes[0].set_title(\"T-SNE\", fontsize=24)\nplotGrid(axes[1])\naxes[1].scatter(*out_cosne.T, c=colors, cmap=plt.get_cmap(\"rainbow\"))\naxes[1].axis(\"off\")\naxes[1].set_title(\"CO-SNE\", fontsize=24)\nplt.show()"
      ]
    },
    {
      "cell_type": "markdown",
      "metadata": {},
      "source": [
        "## Load the SNARE-seq dataset (gene expression) with cell type labels\n\n"
      ]
    },
    {
      "cell_type": "code",
      "execution_count": null,
      "metadata": {
        "collapsed": false
      },
      "outputs": [],
      "source": [
        "def load_numpy_from_url(url, delimiter=\"\\t\"):\n    \"\"\"\n    Load a numpy array from a URL.\n\n    Parameters\n    ----------\n    url : str\n        URL to load data from.\n    delimiter : str, default=\"\\t\"\n        Delimiter used in the data file.\n\n    Returns\n    -------\n    numpy.ndarray\n        Loaded data as a numpy array.\n    \"\"\"\n    response = urllib.request.urlopen(url)\n    data = response.read().decode(\"utf-8\")\n    data = data.split(\"\\n\")\n    data = [row.split(delimiter) for row in data if row]\n    numpy_array = np.array(data, dtype=float)\n    return numpy_array\n\n\nurl_x = \"https://rsinghlab.github.io/SCOT/data/snare_rna.txt\"\nsnare_data = load_numpy_from_url(url_x) / 100\n\nurl_y = \"https://rsinghlab.github.io/SCOT/data/SNAREseq_types.txt\"\nsnare_labels = load_numpy_from_url(url_y)"
      ]
    },
    {
      "cell_type": "markdown",
      "metadata": {},
      "source": [
        "## Computing TSNE and COSNE on SNARE-seq data\n\nWe can now proceed to computing the two DR methods and visualizing\nthe results on the SNARE-seq dataset\n\n"
      ]
    },
    {
      "cell_type": "code",
      "execution_count": null,
      "metadata": {
        "collapsed": false
      },
      "outputs": [],
      "source": [
        "tsne_model = TSNE(verbose=True, max_iter=500)\nout_tsne = tsne_model.fit_transform(snare_data)\n\ncosne_model = COSNE(lr=1e-1, verbose=True, gamma=0.5, lambda1=0.01, max_iter=500)\nout_cosne = cosne_model.fit_transform(snare_data)\n\n\nfig, axes = plt.subplots(nrows=1, ncols=2, figsize=(16, 8))\naxes[0].scatter(*out_tsne.T, c=snare_labels.squeeze(1), cmap=plt.get_cmap(\"rainbow\"))\naxes[0].set_xticks([])\naxes[0].set_yticks([])\naxes[0].set_title(\"T-SNE\", fontsize=24)\nplotGrid(axes[1])\naxes[1].scatter(*out_cosne.T, c=snare_labels.squeeze(1), cmap=plt.get_cmap(\"rainbow\"))\naxes[1].axis(\"off\")\naxes[1].set_title(\"CO-SNE\", fontsize=24)\nplt.show()"
      ]
    }
  ],
  "metadata": {
    "kernelspec": {
      "display_name": "Python 3",
      "language": "python",
      "name": "python3"
    },
    "language_info": {
      "codemirror_mode": {
        "name": "ipython",
        "version": 3
      },
      "file_extension": ".py",
      "mimetype": "text/x-python",
      "name": "python",
      "nbconvert_exporter": "python",
      "pygments_lexer": "ipython3",
      "version": "3.10.18"
    }
  },
  "nbformat": 4,
  "nbformat_minor": 0
}