{
  "cells": [
    {
      "cell_type": "markdown",
      "metadata": {},
      "source": [
        "\n# TSNE vs COSNE : Euclidean vs Hyperbolic\n\nWe compare in this example two dimensionalty reduction methods:\nT-SNE and CO-SNE on a synthetic hierarchical toy dataset and on\nsinglecell data. The first method computes an embedding in a 2D\nEuclidean space while the second one operates in the Hyperbolic\nPoincar\u00e9 Ball model.\n"
      ]
    },
    {
      "cell_type": "code",
      "execution_count": null,
      "metadata": {
        "collapsed": false
      },
      "outputs": [],
      "source": [
        "import numpy as np\nfrom torchdr.utils.visu import plot_disk\nfrom torchdr import TSNE, COSNE\nimport urllib.request\nimport matplotlib.pylab as plt"
      ]
    },
    {
      "cell_type": "markdown",
      "metadata": {},
      "source": [
        "## Load the SNARE-seq dataset (gene expression) with cell type labels\n\n"
      ]
    },
    {
      "cell_type": "code",
      "execution_count": null,
      "metadata": {
        "collapsed": false
      },
      "outputs": [],
      "source": [
        "def load_numpy_from_url(url, delimiter=\"\\t\"):\n    \"\"\"\n    Load a numpy array from a URL.\n\n    Parameters\n    ----------\n    url : str\n        URL to load data from.\n    delimiter : str, default=\"\\t\"\n        Delimiter used in the data file.\n\n    Returns\n    -------\n    numpy.ndarray\n        Loaded data as a numpy array.\n    \"\"\"\n    response = urllib.request.urlopen(url)\n    data = response.read().decode(\"utf-8\")\n    data = data.split(\"\\n\")\n    data = [row.split(delimiter) for row in data if row]\n    numpy_array = np.array(data, dtype=float)\n    return numpy_array\n\n\nurl_x = \"https://rsinghlab.github.io/SCOT/data/snare_rna.txt\"\nsnare_data = load_numpy_from_url(url_x) / 100\n\nurl_y = \"https://rsinghlab.github.io/SCOT/data/SNAREseq_types.txt\"\nsnare_labels = load_numpy_from_url(url_y)"
      ]
    },
    {
      "cell_type": "markdown",
      "metadata": {},
      "source": [
        "## Computing TSNE and COSNE on SNARE-seq data\n\nWe can now proceed to computing the two DR methods and visualizing\nthe results on the SNARE-seq dataset.\n\n"
      ]
    },
    {
      "cell_type": "code",
      "execution_count": null,
      "metadata": {
        "collapsed": false
      },
      "outputs": [],
      "source": [
        "tsne_model = TSNE(verbose=True, max_iter=500)\nout_tsne = tsne_model.fit_transform(snare_data)\n\ncosne_model = COSNE(lr=1e-1, verbose=True, gamma=0.5, lambda1=0.01, max_iter=500)\nout_cosne = cosne_model.fit_transform(snare_data)\n\n\nfig, axes = plt.subplots(nrows=1, ncols=2, figsize=(16, 8))\naxes[0].scatter(*out_tsne.T, c=snare_labels.squeeze(1), cmap=plt.get_cmap(\"rainbow\"))\naxes[0].set_xticks([])\naxes[0].set_yticks([])\naxes[0].set_title(\"T-SNE\", fontsize=24)\nplot_disk(axes[1])\naxes[1].scatter(*out_cosne.T, c=snare_labels.squeeze(1), cmap=plt.get_cmap(\"rainbow\"))\naxes[1].axis(\"off\")\naxes[1].set_title(\"CO-SNE\", fontsize=24)\nplt.show()"
      ]
    }
  ],
  "metadata": {
    "kernelspec": {
      "display_name": "Python 3",
      "language": "python",
      "name": "python3"
    },
    "language_info": {
      "codemirror_mode": {
        "name": "ipython",
        "version": 3
      },
      "file_extension": ".py",
      "mimetype": "text/x-python",
      "name": "python",
      "nbconvert_exporter": "python",
      "pygments_lexer": "ipython3",
      "version": "3.10.18"
    }
  },
  "nbformat": 4,
  "nbformat_minor": 0
}