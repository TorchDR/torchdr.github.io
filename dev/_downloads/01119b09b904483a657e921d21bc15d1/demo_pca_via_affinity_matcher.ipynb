{
  "cells": [
    {
      "cell_type": "markdown",
      "metadata": {},
      "source": [
        "\n# PCA via SVD and via AffinityMatcher\n\nWe show how to compute a PCA embedding using the closed form\nand using the AffinityMatcher class. Both approaches lead to the same solution.\n"
      ]
    },
    {
      "cell_type": "code",
      "execution_count": null,
      "metadata": {
        "collapsed": false
      },
      "outputs": [],
      "source": [
        "import matplotlib.pyplot as plt\nfrom sklearn.datasets import load_digits\n\nfrom torchdr.spectral import PCA\nfrom torchdr import AffinityMatcher, ScalarProductAffinity"
      ]
    },
    {
      "cell_type": "markdown",
      "metadata": {},
      "source": [
        "## Load toy images\n\nFirst, let's load 5 classes of the digits dataset from sklearn.\n\n"
      ]
    },
    {
      "cell_type": "code",
      "execution_count": null,
      "metadata": {
        "collapsed": false
      },
      "outputs": [],
      "source": [
        "digits = load_digits(n_class=5)\nX = digits.data\nX = X - X.mean(0)"
      ]
    },
    {
      "cell_type": "markdown",
      "metadata": {},
      "source": [
        "## PCA via SVD\n\nLet us perform PCA using the closed form solution given by the\nSingular Value Decomposition (SVD).\nIn ``Torchdr``, it is available at :class:`torchdr.PCA`.\n\n"
      ]
    },
    {
      "cell_type": "code",
      "execution_count": null,
      "metadata": {
        "collapsed": false
      },
      "outputs": [],
      "source": [
        "Z_svd = PCA(n_components=2).fit_transform(X)\n\nplt.figure()\nplt.scatter(Z_svd[:, 0], Z_svd[:, 1], c=digits.target)\nplt.title(\"PCA via SVD\")\nplt.show()"
      ]
    },
    {
      "cell_type": "markdown",
      "metadata": {},
      "source": [
        "## PCA via AffinityMatcher\n\nNow, let us perform PCA using the AffinityMatcher class\n:class:`torchdr.AffinityMatcher`\nas well as the scalar product affinity\n:class:`torchdr.ScalarProductAffinity`\nfor both input data and embeddings,\nand the square loss as global objective.\n\n"
      ]
    },
    {
      "cell_type": "code",
      "execution_count": null,
      "metadata": {
        "collapsed": false
      },
      "outputs": [],
      "source": [
        "model = AffinityMatcher(\n    n_components=2,\n    affinity_in=ScalarProductAffinity(),\n    affinity_out=ScalarProductAffinity(),\n    loss_fn=\"square_loss\",\n    init=\"normal\",\n    lr=1e1,\n    max_iter=50,\n    keops=False,\n)\nZ_am = model.fit_transform(X)\n\nplt.figure()\nplt.scatter(Z_am[:, 0], Z_am[:, 1], c=digits.target)\nplt.title(\"PCA via AffinityMatcher\")\nplt.show()"
      ]
    },
    {
      "cell_type": "markdown",
      "metadata": {},
      "source": [
        "We can see that we obtain the same PCA embedding (up to a rotation) using\nboth methods.\n\n"
      ]
    }
  ],
  "metadata": {
    "kernelspec": {
      "display_name": "Python 3",
      "language": "python",
      "name": "python3"
    },
    "language_info": {
      "codemirror_mode": {
        "name": "ipython",
        "version": 3
      },
      "file_extension": ".py",
      "mimetype": "text/x-python",
      "name": "python",
      "nbconvert_exporter": "python",
      "pygments_lexer": "ipython3",
      "version": "3.10.14"
    }
  },
  "nbformat": 4,
  "nbformat_minor": 0
}